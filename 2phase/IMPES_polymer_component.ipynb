{
 "cells": [
  {
   "cell_type": "code",
   "execution_count": 1,
   "metadata": {},
   "outputs": [],
   "source": [
    "import numpy as np\n",
    "import torch\n",
    "import matplotlib.pyplot as plt"
   ]
  },
  {
   "cell_type": "code",
   "execution_count": 2,
   "metadata": {},
   "outputs": [],
   "source": [
    "import sys\n",
    "if \"..\" not in sys.path:\n",
    "    sys.path.insert(0, \"..\")\n",
    "# from src.BuckleyLeverett import *"
   ]
  },
  {
   "cell_type": "code",
   "execution_count": 3,
   "metadata": {},
   "outputs": [],
   "source": [
    "num_of_points = 5\n",
    "r_min = 0.05\n",
    "r_max = 0.95\n",
    "\n",
    "init_porosity = 0.2\n",
    "C = 7.0\n",
    "\n",
    "pure_water_viscosity = 1e-3\n",
    "oil_viscosity = 4e-3\n",
    "\n",
    "init_water_saturation = 0.2"
   ]
  },
  {
   "cell_type": "code",
   "execution_count": 4,
   "metadata": {},
   "outputs": [
    {
     "name": "stdout",
     "output_type": "stream",
     "text": [
      "cuda\n"
     ]
    }
   ],
   "source": [
    "device = torch.device('cuda' if torch.cuda.is_available() else 'cpu')\n",
    "print(device)"
   ]
  },
  {
   "cell_type": "code",
   "execution_count": 5,
   "metadata": {},
   "outputs": [],
   "source": [
    "def water_viscosity(polymer_concentration):\n",
    "\treturn pure_water_viscosity * torch.exp(10 * polymer_concentration)"
   ]
  },
  {
   "cell_type": "code",
   "execution_count": 6,
   "metadata": {},
   "outputs": [],
   "source": [
    "def permeability(porosity):\n",
    "    return C * torch.pow(porosity, torch.tensor(3)) / torch.pow(1 - porosity, torch.tensor(2))"
   ]
  },
  {
   "cell_type": "code",
   "execution_count": 7,
   "metadata": {},
   "outputs": [
    {
     "data": {
      "text/plain": [
       "tensor(0.0086)"
      ]
     },
     "execution_count": 7,
     "metadata": {},
     "output_type": "execute_result"
    }
   ],
   "source": [
    "permeability(torch.tensor(0.1))"
   ]
  },
  {
   "cell_type": "code",
   "execution_count": 8,
   "metadata": {},
   "outputs": [
    {
     "data": {
      "text/plain": [
       "tensor([0.0500, 0.2750, 0.5000, 0.7250, 0.9500])"
      ]
     },
     "execution_count": 8,
     "metadata": {},
     "output_type": "execute_result"
    }
   ],
   "source": [
    "r = torch.linspace(r_min, r_max, num_of_points)\n",
    "r"
   ]
  },
  {
   "cell_type": "code",
   "execution_count": 9,
   "metadata": {},
   "outputs": [
    {
     "data": {
      "text/plain": [
       "tensor([-0.0500,  0.1333,  0.3167,  0.5000,  0.6833,  0.8667,  1.0500])"
      ]
     },
     "execution_count": 9,
     "metadata": {},
     "output_type": "execute_result"
    }
   ],
   "source": [
    "num_of_all_points = num_of_points + 2\n",
    "r_ext = torch.linspace(r_min-2*r[0], r_max+2*r[0], num_of_all_points)\n",
    "r_ext"
   ]
  },
  {
   "cell_type": "code",
   "execution_count": 10,
   "metadata": {},
   "outputs": [
    {
     "data": {
      "text/plain": [
       "tensor([0.2000, 0.2000, 0.2000, 0.2000, 0.2000])"
      ]
     },
     "execution_count": 10,
     "metadata": {},
     "output_type": "execute_result"
    }
   ],
   "source": [
    "porosity = torch.zeros_like(r) + init_porosity\n",
    "porosity_ext = torch.zeros_like(r_ext) + init_porosity\n",
    "porosity"
   ]
  },
  {
   "cell_type": "code",
   "execution_count": 11,
   "metadata": {},
   "outputs": [
    {
     "data": {
      "text/plain": [
       "tensor([0.0875, 0.0875, 0.0875, 0.0875, 0.0875])"
      ]
     },
     "execution_count": 11,
     "metadata": {},
     "output_type": "execute_result"
    }
   ],
   "source": [
    "perm = permeability(porosity)\n",
    "perm_ext = permeability(porosity_ext)\n",
    "perm"
   ]
  },
  {
   "cell_type": "code",
   "execution_count": 12,
   "metadata": {},
   "outputs": [],
   "source": [
    "saturation = torch.zeros_like(r) + init_water_saturation\n",
    "saturation_ext = torch.zeros_like(r_ext) + init_water_saturation\n",
    "\n",
    "polymer_concentration = torch.zeros_like(r)\n",
    "polymer_concentration_ext = torch.zeros_like(r_ext)"
   ]
  },
  {
   "cell_type": "code",
   "execution_count": 13,
   "metadata": {},
   "outputs": [],
   "source": [
    "import torch\n",
    "\n",
    "# Define constants as tensors\n",
    "WATER_CURVE_SHAPE_PARAMETER = torch.tensor(2.5)\n",
    "OIL_CURVE_SHAPE_PARAMETER = torch.tensor(2.0)\n",
    "S_WIR = torch.tensor(0.0)\n",
    "S_ORW = torch.tensor(0.0)\n",
    "\n",
    "def normalized_s(S: torch.Tensor) -> torch.Tensor:\n",
    "    return (S - S_WIR) / (1 - S_WIR - S_ORW)\n",
    "\n",
    "def relative_water_perm(S: torch.Tensor) -> torch.Tensor:\n",
    "    \"\"\"Relative permeability to water\n",
    "\n",
    "    Args:\n",
    "        S (torch.Tensor): Water saturation\n",
    "\n",
    "    Returns:\n",
    "        torch.Tensor: Relative permeability to water\n",
    "    \"\"\"\n",
    "    norm_s = normalized_s(S)\n",
    "    return torch.where(\n",
    "        S <= S_WIR,\n",
    "        torch.tensor(0.0, dtype=S.dtype),\n",
    "        torch.where(\n",
    "            S >= (1 - S_ORW),\n",
    "            torch.tensor(1.0, dtype=S.dtype),\n",
    "            torch.pow(norm_s, WATER_CURVE_SHAPE_PARAMETER)\n",
    "        )\n",
    "    )\n",
    "\n",
    "def relative_oil_perm(S: torch.Tensor) -> torch.Tensor:\n",
    "    \"\"\"Relative permeability to oil\n",
    "\n",
    "    Args:\n",
    "        S (torch.Tensor): Water saturation\n",
    "\n",
    "    Returns:\n",
    "        torch.Tensor: Relative permeability to oil\n",
    "    \"\"\"\n",
    "    norm_s = normalized_s(S)\n",
    "    return torch.where(\n",
    "        S <= S_WIR,\n",
    "        torch.tensor(1.0, dtype=S.dtype),\n",
    "        torch.where(\n",
    "            S >= (1 - S_ORW),\n",
    "            torch.tensor(0.0, dtype=S.dtype),\n",
    "            torch.pow(1 - norm_s, OIL_CURVE_SHAPE_PARAMETER)\n",
    "        )\n",
    "    )\n"
   ]
  },
  {
   "cell_type": "code",
   "execution_count": 14,
   "metadata": {},
   "outputs": [
    {
     "data": {
      "text/plain": [
       "tensor([0.0179, 0.0179, 0.0179, 0.0179, 0.0179])"
      ]
     },
     "execution_count": 14,
     "metadata": {},
     "output_type": "execute_result"
    }
   ],
   "source": [
    "kwi = relative_water_perm(saturation)\n",
    "kwi_ext = relative_water_perm(saturation_ext)\n",
    "kwi"
   ]
  },
  {
   "cell_type": "code",
   "execution_count": 15,
   "metadata": {},
   "outputs": [
    {
     "data": {
      "text/plain": [
       "tensor([0.0010, 0.0010, 0.0010, 0.0010, 0.0010])"
      ]
     },
     "execution_count": 15,
     "metadata": {},
     "output_type": "execute_result"
    }
   ],
   "source": [
    "muwi = water_viscosity(polymer_concentration)\n",
    "muwi_ext = water_viscosity(polymer_concentration_ext)\n",
    "muwi"
   ]
  },
  {
   "cell_type": "code",
   "execution_count": 16,
   "metadata": {},
   "outputs": [
    {
     "data": {
      "text/plain": [
       "tensor([0.6400, 0.6400, 0.6400, 0.6400, 0.6400])"
      ]
     },
     "execution_count": 16,
     "metadata": {},
     "output_type": "execute_result"
    }
   ],
   "source": [
    "koi = relative_oil_perm(saturation)\n",
    "koi_ext = relative_oil_perm(saturation_ext)\n",
    "koi"
   ]
  },
  {
   "cell_type": "code",
   "execution_count": 17,
   "metadata": {},
   "outputs": [
    {
     "data": {
      "text/plain": [
       "array([0.004, 0.004, 0.004, 0.004, 0.004], dtype=float32)"
      ]
     },
     "execution_count": 17,
     "metadata": {},
     "output_type": "execute_result"
    }
   ],
   "source": [
    "muoi = np.zeros_like(r) + oil_viscosity\n",
    "muoi_ext = np.zeros_like(r_ext) + oil_viscosity\n",
    "muoi"
   ]
  },
  {
   "cell_type": "code",
   "execution_count": 18,
   "metadata": {},
   "outputs": [
    {
     "data": {
      "text/plain": [
       "tensor([0.3667, 0.3667, 0.3667, 0.3667, 0.3667])"
      ]
     },
     "execution_count": 18,
     "metadata": {},
     "output_type": "execute_result"
    }
   ],
   "source": [
    "dr2 = r_ext[2:] - \\\n",
    "\t\tr_ext[:-2]\n",
    "dr2"
   ]
  },
  {
   "cell_type": "code",
   "execution_count": 19,
   "metadata": {},
   "outputs": [
    {
     "data": {
      "text/plain": [
       "tensor([0.1833, 0.1833, 0.1833, 0.1833, 0.1833])"
      ]
     },
     "execution_count": 19,
     "metadata": {},
     "output_type": "execute_result"
    }
   ],
   "source": [
    "drplus = (r_ext[1:] - r_ext[:-1])[1:]\n",
    "drplus"
   ]
  },
  {
   "cell_type": "code",
   "execution_count": 20,
   "metadata": {},
   "outputs": [
    {
     "data": {
      "text/plain": [
       "tensor([0.1833, 0.1833, 0.1833, 0.1833, 0.1833])"
      ]
     },
     "execution_count": 20,
     "metadata": {},
     "output_type": "execute_result"
    }
   ],
   "source": [
    "drminus = (r_ext[1:] - r_ext[:-1])[:-1]\n",
    "drminus"
   ]
  },
  {
   "cell_type": "code",
   "execution_count": 21,
   "metadata": {},
   "outputs": [
    {
     "data": {
      "text/plain": [
       "tensor([ 4.0484e-05, -1.6194e-04,  2.0242e-04, -1.2145e-04,  0.0000e+00])"
      ]
     },
     "execution_count": 21,
     "metadata": {},
     "output_type": "execute_result"
    }
   ],
   "source": [
    "Ai = 2 * perm / (dr2) * (kwi/muwi + koi/muoi) * (1 / (drplus) - 1 / (drminus))\n",
    "Ai"
   ]
  },
  {
   "cell_type": "code",
   "execution_count": 22,
   "metadata": {},
   "outputs": [
    {
     "data": {
      "text/plain": [
       "tensor([1312.1119,  617.4642,  547.9998,  521.6510,  507.7832])"
      ]
     },
     "execution_count": 22,
     "metadata": {},
     "output_type": "execute_result"
    }
   ],
   "source": [
    "Aiplus1 = 2 * perm / (dr2 * drplus) * (kwi/muwi + koi/muoi) + 1 / dr2 * ((\n",
    "    perm_ext[2:] * (kwi_ext[2:] / muwi_ext[2:] + koi_ext[2:] / muoi_ext[2:]) - \n",
    "    perm_ext[:-2] * (kwi_ext[:-2] / muwi_ext[:-2] + koi_ext[:-2] / muoi_ext[:-2])) / dr2 +\n",
    "    perm * (kwi / muwi + koi / muoi) / r\n",
    ")\n",
    "Aiplus1"
   ]
  },
  {
   "cell_type": "code",
   "execution_count": 23,
   "metadata": {},
   "outputs": [
    {
     "data": {
      "text/plain": [
       "torch.Size([5])"
      ]
     },
     "execution_count": 23,
     "metadata": {},
     "output_type": "execute_result"
    }
   ],
   "source": [
    "main_diag = Ai\n",
    "main_diag.shape"
   ]
  },
  {
   "cell_type": "code",
   "execution_count": 24,
   "metadata": {},
   "outputs": [
    {
     "data": {
      "text/plain": [
       "torch.Size([4])"
      ]
     },
     "execution_count": 24,
     "metadata": {},
     "output_type": "execute_result"
    }
   ],
   "source": [
    "upper_diag = Aiplus1[:-1]\n",
    "upper_diag.shape"
   ]
  },
  {
   "cell_type": "code",
   "execution_count": 25,
   "metadata": {},
   "outputs": [
    {
     "data": {
      "text/plain": [
       "torch.Size([4])"
      ]
     },
     "execution_count": 25,
     "metadata": {},
     "output_type": "execute_result"
    }
   ],
   "source": [
    "lower_diag = Aiplus1[1:]\n",
    "lower_diag.shape"
   ]
  },
  {
   "cell_type": "code",
   "execution_count": 26,
   "metadata": {},
   "outputs": [
    {
     "data": {
      "text/plain": [
       "tensor([[0., 0., 0., 0., 0.],\n",
       "        [0., 0., 0., 0., 0.],\n",
       "        [0., 0., 0., 0., 0.],\n",
       "        [0., 0., 0., 0., 0.],\n",
       "        [0., 0., 0., 0., 0.]])"
      ]
     },
     "execution_count": 26,
     "metadata": {},
     "output_type": "execute_result"
    }
   ],
   "source": [
    "n = main_diag.size(0)\n",
    "matrix = torch.zeros((n, n), dtype=torch.float32)\n",
    "matrix"
   ]
  },
  {
   "cell_type": "code",
   "execution_count": 31,
   "metadata": {},
   "outputs": [
    {
     "data": {
      "text/plain": [
       "tensor([[ 656.0560, 2624.2239,    0.0000,    0.0000,    0.0000],\n",
       "        [1234.9285,  308.7320, 1234.9285,    0.0000,    0.0000],\n",
       "        [   0.0000, 1095.9995,  274.0001, 1095.9995,    0.0000],\n",
       "        [   0.0000,    0.0000, 1043.3020,  260.8254, 1043.3020],\n",
       "        [   0.0000,    0.0000,    0.0000, 1015.5665,  253.8916]])"
      ]
     },
     "execution_count": 31,
     "metadata": {},
     "output_type": "execute_result"
    }
   ],
   "source": [
    "matrix += torch.diag_embed(main_diag)\n",
    "upper_matrix = torch.diag_embed(upper_diag, offset=1)\n",
    "matrix += upper_matrix\n",
    "lower_matrix = torch.diag_embed(lower_diag, offset=-1)\n",
    "matrix += lower_matrix\n",
    "\n",
    "matrix"
   ]
  },
  {
   "cell_type": "code",
   "execution_count": 32,
   "metadata": {},
   "outputs": [
    {
     "data": {
      "text/plain": [
       "tensor([[1.],\n",
       "        [0.],\n",
       "        [0.],\n",
       "        [0.],\n",
       "        [2.]])"
      ]
     },
     "execution_count": 32,
     "metadata": {},
     "output_type": "execute_result"
    }
   ],
   "source": [
    "f = torch.zeros((n, 1), dtype=torch.float32)\n",
    "f[0] = 1\n",
    "f[-1] = 2\n",
    "f"
   ]
  },
  {
   "cell_type": "code",
   "execution_count": 33,
   "metadata": {},
   "outputs": [
    {
     "data": {
      "text/plain": [
       "tensor([[ 0.0033],\n",
       "        [-0.0004],\n",
       "        [-0.0032],\n",
       "        [ 0.0012],\n",
       "        [ 0.0029]])"
      ]
     },
     "execution_count": 33,
     "metadata": {},
     "output_type": "execute_result"
    }
   ],
   "source": [
    "x = torch.linalg.solve(matrix, f)\n",
    "x"
   ]
  },
  {
   "cell_type": "code",
   "execution_count": 34,
   "metadata": {},
   "outputs": [
    {
     "data": {
      "text/plain": [
       "[<matplotlib.lines.Line2D at 0x7f89fc9bc880>]"
      ]
     },
     "execution_count": 34,
     "metadata": {},
     "output_type": "execute_result"
    },
    {
     "data": {
      "image/png": "[encoded data removed]",
      "text/plain": [
       "<Figure size 640x480 with 1 Axes>"
      ]
     },
     "metadata": {},
     "output_type": "display_data"
    }
   ],
   "source": [
    "plt.plot(r, x)"
   ]
  },
  {
   "cell_type": "code",
   "execution_count": null,
   "metadata": {},
   "outputs": [],
   "source": []
  }
 ],
 "metadata": {
  "kernelspec": {
   "display_name": ".venv",
   "language": "python",
   "name": "python3"
  },
  "language_info": {
   "codemirror_mode": {
    "name": "ipython",
    "version": 3
   },
   "file_extension": ".py",
   "mimetype": "text/x-python",
   "name": "python",
   "nbconvert_exporter": "python",
   "pygments_lexer": "ipython3",
   "version": "3.10.12"
  }
 },
 "nbformat": 4,
 "nbformat_minor": 2
}
