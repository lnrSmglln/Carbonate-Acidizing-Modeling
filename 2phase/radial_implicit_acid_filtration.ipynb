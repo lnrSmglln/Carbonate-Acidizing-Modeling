{
 "cells": [
  {
   "cell_type": "markdown",
   "metadata": {},
   "source": [
    "# Моделирование процесса закачки воды с кислотой в нефтенасыщенный пласт"
   ]
  },
  {
   "cell_type": "markdown",
   "metadata": {},
   "source": [
    "<hr><hr>\n",
    "\n",
    "## Теория"
   ]
  },
  {
   "cell_type": "markdown",
   "metadata": {},
   "source": [
    "<hr>\n",
    "\n",
    "### Химия"
   ]
  },
  {
   "cell_type": "markdown",
   "metadata": {},
   "source": [
    "Рассмотрим реакцию соляной кислоты с известняком (кальцитом):\n",
    "\n",
    "$$\n",
    "\\begin{alignat}{5}\n",
    "&\\text{CaCO}_3 \\  + \\  && 2 \\text{HCl} \\ \n",
    "\\rightarrow\n",
    "\\  &&\\text{CaCl}_2 \\  + \\  &&\\text{H}_2\\text{O} \\  + \\  &&\\text{CO}_2\n",
    "\\\\\n",
    "&\\bold{r}\\text{ock} &&\\bold{a}\\text{cid} &&\\bold{s}\\text{alt} &&\\bold{w}\\text{ater} &&\\bold{g}\\text{as}\n",
    "\\end{alignat}\n",
    "$$"
   ]
  },
  {
   "cell_type": "markdown",
   "metadata": {},
   "source": [
    "В массовом виде относительно кальцита уравнение реакции выглядит так:\n",
    "$$\n",
    "\\begin{gathered}\n",
    "\\text{CaCO}_3 \\  + \\  0.729 \\, \\text{HCl} \\ \n",
    "\\rightarrow \n",
    "\\  1.109 \\, \\text{CaCl}_2 \\  + \\  0.18 \\, \\text{H}_2\\text{O} \\  + \\  0.44 \\, \\text{CO}_2\n",
    "\\end{gathered}\n",
    "$$"
   ]
  },
  {
   "cell_type": "markdown",
   "metadata": {},
   "source": [
    "Массовые стехиометрические коэффициенты:\n",
    "\n",
    "- $\\chi_a = 0.728579$\n",
    "- $\\chi_s = 1.108884$\n",
    "- $\\chi_w = 0.179992$\n",
    "- $\\chi_g = 0.439703$"
   ]
  },
  {
   "cell_type": "markdown",
   "metadata": {},
   "source": [
    "Предполагается, что смачивающая фаза, в основном состоящая из воды, несет в себе кислоту, полностью растворимые соль и углекислый газ"
   ]
  },
  {
   "cell_type": "markdown",
   "metadata": {},
   "source": [
    "Кинетика реакции описывается формулой:\n",
    "\n",
    "$$\n",
    "J = k_a S (1 - \\phi) \\frac{M_r}{2} S_s \\rho_a^m \\frac{(c_{a} - c_{\\text{eq}})^m}{M_{a}^m}\n",
    "$$\n",
    "\n",
    "- $M_r = 0.100088$ кг/моль\n",
    "- $M_a = 0.036461$ кг/моль"
   ]
  },
  {
   "cell_type": "markdown",
   "metadata": {},
   "source": [
    "<hr>\n",
    "\n",
    "### МСС"
   ]
  },
  {
   "cell_type": "markdown",
   "metadata": {},
   "source": [
    "#### Уравнения неразрывности"
   ]
  },
  {
   "cell_type": "markdown",
   "metadata": {},
   "source": [
    "$$\n",
    "\\frac{\\partial \\rho_A}{\\partial t} + \\nabla \\cdot (\\rho_A \\vec{v}_A) = \\chi_A J\n",
    "$$"
   ]
  },
  {
   "cell_type": "markdown",
   "metadata": {},
   "source": [
    "Континуумы системы:\n",
    "<p align=\"center\">\n",
    "    <img src=\"../docs/src/continuums.png\" alt=\"drawing\" width=\"40%\" height=\"auto\">\n",
    "</p>"
   ]
  },
  {
   "cell_type": "markdown",
   "metadata": {},
   "source": [
    "В одномерном случае получим систему уравнений\n",
    "\n",
    "- для породы:\n",
    "\n",
    "$$\n",
    "\\frac{\\partial}{\\partial t} \\left[ \\rho_r (1 -\\phi) \\right] = - J\n",
    "$$\n",
    "\n",
    "- для воды и растворенных компонентов (кислоты, соли, газа и полимера) $\\left( c_a + c_s + c_g + c_p = 1 - c_w \\right)$\n",
    "\n",
    "$$\n",
    "\\begin{gathered}\n",
    "\\frac{\\partial}{\\partial t} \\left[ \\rho_a \\phi S c_a \\right] +\n",
    "\\frac{\\partial}{\\partial x} \\left[ \\rho_a c_a \\phi S v_w \\right] =\n",
    "- \\chi_a J\n",
    "\\\\\n",
    "\\frac{\\partial}{\\partial t} \\left[ \\rho_s \\phi S c_s \\right] +\n",
    "\\frac{\\partial}{\\partial x} \\left[ \\rho_s c_s \\phi S v_w \\right] =\n",
    "\\chi_s J\n",
    "\\\\\n",
    "\\frac{\\partial}{\\partial t} \\left[ \\rho_w \\phi S c_w \\right] +\n",
    "\\frac{\\partial}{\\partial x} \\left[ \\rho_w с_w \\phi S v_w \\right] =\n",
    "\\chi_w J\n",
    "\\\\\n",
    "\\frac{\\partial}{\\partial t} \\left[ \\rho_g \\phi S c_g \\right] +\n",
    "\\frac{\\partial}{\\partial x} \\left[ \\rho_g c_g \\phi S v_w \\right] =\n",
    "\\chi_g J\n",
    "\\\\\n",
    "\\frac{\\partial}{\\partial t} \\left[ \\rho_p \\phi S c_p \\right] +\n",
    "\\frac{\\partial}{\\partial x} \\left[ \\rho_p c_p \\phi S v_w \\right] =\n",
    "0\n",
    "\\end{gathered}\n",
    "$$\n",
    "\n",
    "- для нефти:\n",
    "\n",
    "$$\n",
    "\\frac{\\partial}{\\partial t} \\left[ \\rho_o \\phi (1 - S) \\right] + \n",
    "\\frac{\\partial}{\\partial x} \\left[ \\rho_o \\phi (1 - S) v_o \\right] = 0\n",
    "$$"
   ]
  },
  {
   "cell_type": "markdown",
   "metadata": {},
   "source": [
    "Скорость фильтрации по определению:\n",
    "$$\n",
    "\\vec{W}_w = \\phi S \\vec{v}_w\n",
    "\\hspace{1cm}\n",
    "\\vec{W}_o = \\phi (1 - S) \\vec{v}_o\n",
    "$$"
   ]
  },
  {
   "cell_type": "markdown",
   "metadata": {},
   "source": [
    "Из з. Дарси скорости фильтрации:\n",
    "\n",
    "$$\n",
    "\\begin{gathered}\n",
    "\\vec{W}_w = -k \\frac{k_w}{\\mu_w(c_p, ...)} \\nabla P\n",
    "\\hspace{1cm}\n",
    "\\vec{W}_o = -k \\frac{k_o}{\\mu_o} \\nabla P\n",
    "\\\\\n",
    "\\vec{W}_o = \\vec{W}_w \\frac{k_o}{k_w} \\frac{\\mu_w}{\\mu_o}\n",
    "\\\\\n",
    "\\vec{W}_o + \\vec{W}_w = \\vec{W}_w \\left( 1 + \\frac{k_o}{k_w} \\frac{\\mu_w}{\\mu_o} \\right)\n",
    "\\\\\n",
    "\\frac{\\vec{W}_w}{\\vec{W}_o + \\vec{W}_w} = \\frac{1}{1 + \\frac{k_o}{k_w} \\frac{\\mu_w}{\\mu_o}} = b(S, c_p, ...)\n",
    "\\\\\n",
    "\\vec{W}_w = \\vec{W} b\n",
    "\\hspace{1cm}\n",
    "\\vec{W}_o = \\vec{W} ( 1 - b)\n",
    "\\end{gathered}\n",
    "$$\n",
    "\n",
    "Здесь пренебрегаются капиллярное давление, влияние кол-ва растворенного $\\text{CO}_a$ в воде на $\\mu_w$"
   ]
  },
  {
   "cell_type": "markdown",
   "metadata": {},
   "source": [
    "Таким образом:\n",
    "- для породы:\n",
    "  \n",
    "$$\n",
    "\\frac{\\partial}{\\partial t} \\left[ \\rho_r (1 -\\phi) \\right] = - J\n",
    "$$\n",
    "\n",
    "- для воды и растворенных компонентов\n",
    "  \n",
    "$$\n",
    "\\begin{gathered}\n",
    "\\frac{\\partial}{\\partial t} \\left[ \\rho_a \\phi S c_a \\right] +\n",
    "\\nabla \\cdot \\left[ \\rho_a c_a \\vec{W}b \\right] =\n",
    "- \\chi_a J\n",
    "\\\\\n",
    "\\frac{\\partial}{\\partial t} \\left[ \\rho_s \\phi S c_s \\right] +\n",
    "\\nabla \\cdot \\left[ \\rho_s c_s \\vec{W}b \\right] =\n",
    "\\chi_s J\n",
    "\\\\\n",
    "\\frac{\\partial}{\\partial t} \\left[ \\rho_w \\phi S c_w \\right] +\n",
    "\\nabla \\cdot \\left[ \\rho_w c_w \\vec{W}b \\right] =\n",
    "\\chi_w J\n",
    "\\\\\n",
    "\\frac{\\partial}{\\partial t} \\left[ \\rho_g \\phi S c_g \\right] +\n",
    "\\nabla \\cdot \\left[ \\rho_g c_g \\vec{W}b \\right] =\n",
    "\\chi_g J\n",
    "\\\\\n",
    "\\frac{\\partial}{\\partial t} \\left[ \\rho_p \\phi S c_p \\right] +\n",
    "\\nabla \\cdot \\left[ \\rho_p c_p \\vec{W}b \\right] =\n",
    "0\n",
    "\\end{gathered}\n",
    "$$\n",
    "\n",
    "- для нефти:\n",
    "\n",
    "$$\n",
    "\\frac{\\partial}{\\partial t} \\left[ \\rho_o \\phi (1 - S) \\right] + \n",
    "\\nabla \\cdot \\left[ \\rho_o \\vec{W} (1-b) \\right] = 0\n",
    "$$"
   ]
  },
  {
   "cell_type": "markdown",
   "metadata": {},
   "source": [
    "Пусть жидкости и порода несжимаемы, тогда:\n",
    "\n",
    "- для породы:\n",
    "  \n",
    "$$\n",
    "\\frac{\\partial \\phi}{\\partial t} = \\frac{1}{\\rho_r} J\n",
    "$$\n",
    "\n",
    "- для воды и растворенных компонентов\n",
    "\n",
    "$$\n",
    "\\begin{gathered}\n",
    "\\frac{\\partial}{\\partial t} \\left[ \\phi S c_a \\right] +\n",
    "\\nabla \\cdot \\left[  c_a Wb \\right] =\n",
    "- \\frac{\\chi_a}{\\rho_a} J\n",
    "\\\\\n",
    "\\frac{\\partial}{\\partial t} \\left[ \\phi S c_s \\right] +\n",
    "\\nabla \\cdot \\left[ c_s Wb \\right] =\n",
    "\\frac{\\chi_s}{\\rho_s} J\n",
    "\\\\\n",
    "\\frac{\\partial}{\\partial t} \\left[ \\phi S c_w \\right] +\n",
    "\\nabla \\cdot \\left[ c_w Wb \\right] =\n",
    "\\frac{\\chi_w}{\\rho_w} J\n",
    "\\\\\n",
    "\\frac{\\partial}{\\partial t} \\left[ \\phi S c_g \\right] +\n",
    "\\nabla \\cdot \\left[ c_g Wb \\right] =\n",
    "\\frac{\\chi_g}{\\rho_g} J\n",
    "\\\\\n",
    "\\frac{\\partial}{\\partial t} \\left[ \\phi S c_p \\right] +\n",
    "\\nabla \\cdot \\left[ c_p Wb \\right] =\n",
    "0\n",
    "\\end{gathered}\n",
    "$$\n",
    "\n",
    "- для нефти:\n",
    "\n",
    "$$\n",
    "\\frac{\\partial}{\\partial t} \\left[ \\phi (1 - S) \\right] + \n",
    "\\nabla \\cdot \\left[ W (1-b) \\right] = 0\n",
    "$$"
   ]
  },
  {
   "cell_type": "markdown",
   "metadata": {},
   "source": [
    "Сложив уравнения для воды и компонентов, получим:\n",
    "$$\n",
    "\\frac{\\partial \\phi S}{\\partial t} +\n",
    "\\nabla \\cdot [\\vec{W}b ] =\n",
    "J \\left( -\\frac{\\chi_a}{\\rho_a} +\\frac{\\chi_s}{\\rho_s} + \\frac{\\chi_w}{\\rho_w} + \\frac{\\chi_g}{\\rho_g} \\right)\n",
    "$$"
   ]
  },
  {
   "cell_type": "markdown",
   "metadata": {},
   "source": [
    "Складывая это уравнение с уравнением неразрывности для нефти получим:\n",
    "$$\n",
    "\\frac{\\partial \\phi}{\\partial t} +\n",
    "\\nabla \\cdot \\vec{W} =\n",
    "J \\left( -\\frac{\\chi_a}{\\rho_a} +\\frac{\\chi_s}{\\rho_s} + \\frac{\\chi_w}{\\rho_w} + \\frac{\\chi_g}{\\rho_g} \\right)\n",
    "$$\n",
    "Подставляя вместо $\\frac{\\partial \\phi}{\\partial t}$ правую часть уравнения неразрывности для породы:\n",
    "$$\n",
    "\\nabla \\cdot \\vec{W} =\n",
    "J \\left( -\\frac{1}{\\rho_r} -\\frac{\\chi_a}{\\rho_a} +\\frac{\\chi_s}{\\rho_s} + \\frac{\\chi_w}{\\rho_w} + \\frac{\\chi_g}{\\rho_g} \\right)\n",
    "$$"
   ]
  },
  {
   "cell_type": "markdown",
   "metadata": {},
   "source": [
    "В цилиндрических координат дивергенция примет вид:\n",
    "\n",
    "$$\\nabla \\cdot \\vec{W} = {1 \\over r }{\\partial \\left(r W_{r }\\right) \\over \\partial r } + {1 \\over r }{\\partial W_{\\varphi } \\over \\partial \\varphi }+{\\partial W_{z} \\over \\partial z} $$\n",
    "\n",
    "Как правило свойства пласта по осям $\\varphi$ и $z$ отсутствуют, задача сводится к одномерной радиальной:\n",
    "\n",
    "$$\\nabla \\cdot \\vec{W} = {1 \\over r }{\\partial \\left(r W_{r }\\right) \\over \\partial r }$$\n",
    "\n",
    "$$\n",
    "{1 \\over r }{\\partial \\left(r W\\right) \\over \\partial r } =\n",
    "J \\left( -\\frac{1}{\\rho_r} -\\frac{\\chi_a}{\\rho_a} +\\frac{\\chi_s}{\\rho_s} + \\frac{\\chi_w}{\\rho_w} + \\frac{\\chi_g}{\\rho_g} \\right)\n",
    "$$"
   ]
  },
  {
   "cell_type": "markdown",
   "metadata": {},
   "source": [
    "Если идти по пути МКО, то дискретизированная дивергенция для одномерного радиального случая примет вид:\n",
    "\n",
    "$$\n",
    "\\nabla \\cdot \\vec{W} = 2 {W_{i+1/2} r_{i+1/2} - W_{i-1/2} r_{i-1/2} \\over r_{i+1/2}^2 - r_{i-1/2}^2},\n",
    "$$\n",
    "\n",
    "где $r_{i+1/2} \\equiv r_{i+1}$ - радиус отдаленной от центра границы ячейки, представляющей из себя цилиндрическую трубу,\n",
    "\n",
    "$r_{i-1/2} \\equiv r_{i}$ - радиус приближенной к центру границы ячейки,\n",
    "\n",
    "$V_i = \\pi h (r_{i+1}^2 - r_{i}^2)$ - объем ячейки,\n",
    "\n",
    "$A_{i+1/2} = 2 \\pi r_{i+1} h$ - площадь внешней границы ячейки,\n",
    "\n",
    "$A_{i-1/2} = 2 \\pi r_{i} h$ - площадь внешней границы ячейки,"
   ]
  },
  {
   "cell_type": "markdown",
   "metadata": {},
   "source": [
    "<p align=\"center\">\n",
    "    <img src=\"../docs/src/fvm_scheme.png\" alt=\"drawing\" width=\"40%\" height=\"auto\">\n",
    "</p>"
   ]
  },
  {
   "cell_type": "markdown",
   "metadata": {},
   "source": [
    "$$\n",
    "{W_{i+1/2} r_{i+1/2} - W_{i-1/2} r_{i-1/2} \\over r_{i+1/2}^2 - r_{i-1/2}^2} =\n",
    "{J_i \\over 2} \\left( -\\frac{1}{\\rho_r} -\\frac{\\chi_a}{\\rho_a} +\\frac{\\chi_s}{\\rho_s} + \\frac{\\chi_w}{\\rho_w} + \\frac{\\chi_g}{\\rho_g} \\right),\n",
    "$$\n",
    "\n",
    "где скорость хим. реакции:\n",
    "\n",
    "$$\n",
    "J_i = k_a S_i (1 - \\phi_i) \\frac{M_r}{2} S_s \\rho_a^m \\frac{({c_a}_i - c_{\\text{eq}})^m}{M_a^m}\n",
    "$$\n",
    "\n",
    "Тогда \n",
    "$$\n",
    "{W_{i+1/2} } \n",
    "=\n",
    "{1 \\over  r_{i+1/2}} \n",
    "\\left[\n",
    "    W_{i-1/2} r_{i-1/2} +\n",
    "    {1 \\over 2}{J_i (r_{i+1/2}^2 - r_{i-1/2}^2)} \\left( -\\frac{1}{\\rho_r} -\\frac{\\chi_a}{\\rho_a} +\\frac{\\chi_s}{\\rho_s} + \\frac{\\chi_w}{\\rho_w} + \\frac{\\chi_g}{\\rho_g} \\right) \n",
    "\\right]\n",
    "$$"
   ]
  },
  {
   "cell_type": "markdown",
   "metadata": {},
   "source": [
    "Изменение пористости:\n",
    "\n",
    "$$\n",
    "\\frac{\\phi_{i}^{n+1} - \\phi_i^n}{\\tau^n} = \\frac{J_i^n}{\\rho_r},\n",
    "$$\n",
    "\n",
    "где $\\tau^n$ - n-й шаг по времени\n",
    "\n",
    "$$\n",
    "{\\phi_{i}^{n+1}} = \\phi_i^n + \\frac{J_i^n}{\\rho_r} \\tau^n\n",
    "$$"
   ]
  },
  {
   "cell_type": "markdown",
   "metadata": {},
   "source": [
    "Перенос водной фазы:\n",
    "\n",
    "$$\n",
    "\\frac{\\partial \\phi S}{\\partial t} +\n",
    "\\nabla \\cdot \\left[ \\vec{W}b \\right] =\n",
    "J \\left( -\\frac{\\chi_a}{\\rho_a} +\\frac{\\chi_s}{\\rho_s} + \\frac{\\chi_w}{\\rho_w} + \\frac{\\chi_g}{\\rho_g} \\right)\n",
    "$$\n",
    "\n",
    "$$\n",
    "{\\phi_i^{n+1} S_i^{n+1} - \\phi_i^{n} S_i^{n} \\over \\tau^n} +\n",
    "{2 \\left(W^n_{i+1/2} b^n_{i+1/2} r_{i+1/2} - W^n_{i-1/2} b^n_{i-1/2} r_{i-1/2}\\right) \\over r_{i+1/2}^2 - r_{i-1/2}^2} =\n",
    "J_i^n \\left( -\\frac{\\chi_a}{\\rho_a} +\\frac{\\chi_s}{\\rho_s} + \\frac{\\chi_w}{\\rho_w} + \\frac{\\chi_g}{\\rho_g} \\right)\n",
    "$$\n",
    "\n",
    "$$\n",
    "{\\phi_i^{n+1} S_i^{n+1} - \\phi_i^{n} S_i^{n}}\n",
    "=\n",
    "\\tau^n\n",
    "\\left[\n",
    "J_i^n \\left( -\\frac{\\chi_a}{\\rho_a} +\\frac{\\chi_s}{\\rho_s} + \\frac{\\chi_w}{\\rho_w} + \\frac{\\chi_g}{\\rho_g} \\right)\n",
    "-\n",
    " \\left(W^n_{i+1/2} b^n_{i+1/2} r_{i+1/2} - W^n_{i-1/2} b^n_{i-1/2} r_{i-1/2}\\right) \n",
    "\\right]\n",
    "$$\n",
    "\n",
    "$$\n",
    "{ S_i^{n+1}}\n",
    "=\n",
    "{1 \\over \\phi_i^{n+1}}\n",
    "\\left(\n",
    "\\phi_i^{n} S_i^{n}\n",
    "+\n",
    "\\tau^n\n",
    "\\left[\n",
    "J_i^n \\left( -\\frac{\\chi_a}{\\rho_a} +\\frac{\\chi_s}{\\rho_s} + \\frac{\\chi_w}{\\rho_w} + \\frac{\\chi_g}{\\rho_g} \\right)\n",
    "+\n",
    "{2\\over r_{i+1/2}^2 - r_{i-1/2}^2} \\left(W^n_{i-1/2} b^n_{i-1/2} r_{i-1/2} - W^n_{i+1/2} b^n_{i+1/2} r_{i+1/2}\\right)\n",
    "\\right]\n",
    "\\right)\n",
    "$$\n"
   ]
  },
  {
   "cell_type": "markdown",
   "metadata": {},
   "source": [
    "Перенос концентраций:\n",
    "\n",
    "$$\n",
    "\\frac{\\partial}{\\partial t} \n",
    "\\left[ \n",
    "    \\phi S \n",
    "    \\begin{pmatrix}c_a\\\\c_s\\\\c_g\\\\c_p\\end{pmatrix} \n",
    "\\right] \n",
    "+\n",
    "\\nabla \\cdot\n",
    "\\left[ \n",
    "    \\begin{pmatrix}c_a\\\\c_s\\\\c_g\\\\c_p\\end{pmatrix} Wb \n",
    "\\right]\n",
    "=\n",
    "J\n",
    "\\begin{pmatrix}\n",
    "- \\chi_a / \\rho_a\\\\\n",
    "\\chi_s / \\rho_s \\\\\n",
    "\\chi_g / \\rho_g \\\\\n",
    "0\n",
    "\\end{pmatrix}\n",
    "$$"
   ]
  },
  {
   "cell_type": "markdown",
   "metadata": {},
   "source": [
    "$$\n",
    "{1 \\over \\tau^n}\n",
    "\\left[ \n",
    "    \\phi_i^{n+1} S_i^{n+1} \n",
    "    \\begin{pmatrix}c_a\\\\c_s\\\\c_g\\\\c_p\\end{pmatrix}_i^{n+1}\n",
    "    -\n",
    "    \\phi_i^{n} S_i^{n} \n",
    "    \\begin{pmatrix}c_a\\\\c_s\\\\c_g\\\\c_p\\end{pmatrix}_i^{n}\n",
    "\\right] \n",
    "+\n",
    "{2\\over r_{i+1/2}^2 - r_{i-1/2}^2} \n",
    "\\left[ \n",
    "    W^n_{i+1/2} b^n_{i+1/2} r_{i+1/2} \\begin{pmatrix}c_a\\\\c_s\\\\c_g\\\\c_p\\end{pmatrix}^n_{i+1/2} \n",
    "    - \n",
    "    W^n_{i-1/2} b^n_{i-1/2} r_{i-1/2} \\begin{pmatrix}c_a\\\\c_s\\\\c_g\\\\c_p\\end{pmatrix}^n_{i-1/2} \n",
    "\\right]\n",
    "=\n",
    "J_i^n\n",
    "\\begin{pmatrix}\n",
    "- \\chi_a / \\rho_a\\\\\n",
    "\\chi_s / \\rho_s \\\\\n",
    "\\chi_g / \\rho_g \\\\\n",
    "0\n",
    "\\end{pmatrix}\n",
    "$$"
   ]
  },
  {
   "cell_type": "markdown",
   "metadata": {},
   "source": [
    "$$\n",
    "\\begin{pmatrix}c_a\\\\c_s\\\\c_g\\\\c_p\\end{pmatrix}_i^{n+1}\n",
    "=\n",
    "{1 \\over \\phi_i^{n+1} S_i^{n+1} }\n",
    "\\left[\n",
    "    \\phi_i^{n} S_i^{n} \n",
    "    \\begin{pmatrix}c_a\\\\c_s\\\\c_g\\\\c_p\\end{pmatrix}_i^{n}\n",
    "    +\n",
    "    \\tau^n\n",
    "    \\left(\n",
    "        J_i^n\n",
    "        \\begin{pmatrix}\n",
    "        - \\chi_a / \\rho_a\\\\\n",
    "        \\chi_s / \\rho_s \\\\\n",
    "        \\chi_g / \\rho_g \\\\\n",
    "        0\n",
    "        \\end{pmatrix}\n",
    "        +\n",
    "        {2\\over r_{i+1/2}^2 - r_{i-1/2}^2} \n",
    "        \\left[ \n",
    "            W^n_{i-1/2} b^n_{i-1/2} r_{i-1/2} \\begin{pmatrix}c_a\\\\c_s\\\\c_g\\\\c_p\\end{pmatrix}^n_{i-1/2} \n",
    "            - \n",
    "            W^n_{i+1/2} b^n_{i+1/2} r_{i+1/2} \\begin{pmatrix}c_a\\\\c_s\\\\c_g\\\\c_p\\end{pmatrix}^n_{i+1/2} \n",
    "        \\right]\n",
    "    \\right)\n",
    "\\right]\n",
    "$$"
   ]
  },
  {
   "cell_type": "markdown",
   "metadata": {},
   "source": [
    "<hr>\n",
    "\n",
    "Для одномерного радиального случая имеем 9 неизвестных: $\\phi, S, c_a, c_s, c_g, c_p, J, W, b$ ;\n",
    "\\\n",
    "4 параметра реакции $k_a, m, S_s, c_{\\text{eq}}$\n",
    "\\\n",
    "и 9 уравнений.\n",
    "\n",
    "### Алгоритм:\n",
    "\n",
    "1. Параллельно вычислить:\n",
    "\n",
    "- $$ {S}_{i\\pm1/2} = \\text{interpolate}({S}_{i-1}, {S}_{i}, {S}_{i+1}, ) $$\n",
    "  \n",
    "- $$ {c_p}_{i\\pm1/2} = \\text{interpolate}({c_p}_{i-1}, {c_p}_{i}, {c_p}_{i+1}, ) $$\n",
    "\n",
    "- $$ J_i = k_a S_i (1 - \\phi_i) \\frac{M_r}{2} S_s \\rho_a^m \\frac{({c_a}_i - c_{\\text{eq}})^m}{M_a^m}$$\n",
    "   \n",
    "1. Параллельно вычислить:\n",
    "   \n",
    "- $$ {W_{i+1/2} } = {1 \\over  r_{i+1/2}} \\left[W_{i-1/2} r_{i-1/2} + {1 \\over 2}{J_i (r_{i+1/2}^2 - r_{i-1/2}^2)} \\left( -\\frac{1}{\\rho_r} -\\frac{\\chi_a}{\\rho_a} +\\frac{\\chi_s}{\\rho_s} + \\frac{\\chi_w}{\\rho_w} + \\frac{\\chi_g}{\\rho_g} \\right) \\right] $$\n",
    "  \n",
    "- $$ {\\phi_{i}^{n+1}} = \\phi_i^n + \\frac{J_i^n}{\\rho_r} \\tau^n $$\n",
    "  \n",
    "- $$ b_{i\\pm1/2}^n = {1 / \\left( 1 + \\frac{\\mu_w({c_p}^n_{i\\pm1/2}) k_o(S^n_{i\\pm1/2})}{\\mu_o k_w(S^n_{i\\pm1/2})} \\right)} $$\n",
    "\n",
    "3. $$ {S_i^{n+1}} = {1 \\over \\phi_i^{n+1}} \\left( \\phi_i^{n} S_i^{n}+ \\tau^n \\left[ J_i^n \\left( -\\frac{\\chi_a}{\\rho_a} +\\frac{\\chi_s}{\\rho_s} +\\frac{\\chi_w}{\\rho_w} + \\frac{\\chi_g}{\\rho_g} \\right) + {2\\over r_{i+1/2}^2 - r_{i-1/2}^2} \\left(W^n_{i-1/2} b^n_{i-1/2} r_{i-1/2} - W^n_{i+1/2} b^n_{i+1/2} r_{i+1/2} \\right) \\right] \\right) $$\n",
    "   \n",
    "4. $$ \\begin{pmatrix}c_a\\\\c_s\\\\c_g\\\\c_p\\end{pmatrix}_i^{n+1} ={1 \\over \\phi_i^{n+1} S_i^{n+1} }\\left[\\phi_i^{n} S_i^{n} \\begin{pmatrix}c_a\\\\c_s\\\\c_g\\\\c_p\\end{pmatrix}_i^{n}+\\tau^n\\left(J_i^n\\begin{pmatrix}- \\chi_a / \\rho_a\\\\\\chi_s / \\rho_s \\\\\\chi_g / \\rho_g \\\\0\\end{pmatrix}+ {2\\over r_{i+1/2}^2 - r_{i-1/2}^2} \\left[ W^n_{i-1/2} b^n_{i-1/2} r_{i-1/2} \\begin{pmatrix}c_a\\\\c_s\\\\c_g\\\\c_p\\end{pmatrix}^n_{i-1/2} - W^n_{i+1/2} b^n_{i+1/2} r_{i+1/2} \\begin{pmatrix}c_a\\\\c_s\\\\c_g\\\\c_p\\end{pmatrix}^n_{i+1/2} \\right]\\right)\\right] $$"
   ]
  },
  {
   "cell_type": "markdown",
   "metadata": {},
   "source": [
    "<hr>\n",
    "\n",
    "### Дискретизация"
   ]
  },
  {
   "cell_type": "markdown",
   "metadata": {},
   "source": [
    "#### Дополнительный ограничитель на шаг по времени"
   ]
  },
  {
   "cell_type": "markdown",
   "metadata": {},
   "source": [
    "\n",
    "$$\n",
    "\\begin{gathered}\n",
    "\\phi_i^{n+1} = \\phi_i^n + \\frac{\\tau}{\\rho_r} J_i^n\n",
    "\\\\\n",
    "\\phi_i^{n+1} ≤ 1\n",
    "\\\\\n",
    "\\tau ≤ \\frac{\\rho_r}{J_i^n}(1 - \\phi^n_i)\n",
    "\\\\\n",
    "\\tau ≤ \\frac{2 \\rho_r M_a^m}{k_a M_r S_s \\rho_a^m ({c_a}_{\\text{input}} - c_{\\text{eq}})^m}\n",
    "\\end{gathered}\n",
    "$$"
   ]
  },
  {
   "cell_type": "markdown",
   "metadata": {},
   "source": [
    "<hr><hr>\n",
    "\n",
    "## Реализация"
   ]
  },
  {
   "cell_type": "markdown",
   "metadata": {},
   "source": [
    "### Импорт библиотек"
   ]
  },
  {
   "cell_type": "code",
   "execution_count": 1,
   "metadata": {},
   "outputs": [],
   "source": [
    "%load_ext autoreload\n",
    "%autoreload 2\n",
    "\n",
    "import sys\n",
    "if \"..\" not in sys.path:\n",
    "\tsys.path.insert(0, \"..\")\n",
    "\n",
    "import numpy as np\n",
    "import matplotlib.pyplot as plt\n",
    "from matplotlib.pyplot import figure\n",
    "import numba\n",
    "import torch\n",
    "\n",
    "# from src.BuckleyLeverett import *\n",
    "# from src.ExplicitAcidSolver import ExplicitAcidSolver"
   ]
  },
  {
   "cell_type": "code",
   "execution_count": 2,
   "metadata": {},
   "outputs": [],
   "source": [
    "torch.set_default_dtype(torch.float64)"
   ]
  },
  {
   "cell_type": "markdown",
   "metadata": {},
   "source": [
    "### Входные параметры"
   ]
  },
  {
   "cell_type": "code",
   "execution_count": 53,
   "metadata": {},
   "outputs": [],
   "source": [
    "total_time = 1.0\n",
    "time_step = 0.01\n",
    "\n",
    "num_of_grid_points = 11\n",
    "reservoir_radius = 5\n",
    "well_radius = 0.1\n",
    "height = 0.1\n",
    "\n",
    "initial_porosity = 0.2\n",
    "initial_sat = 0.0\n",
    "\n",
    "k_a = 10**(-5)\n",
    "m = 1\n",
    "S_s = 30000\n",
    "c_eq = 0\n",
    "rho_r = 2740\n",
    "rho_a = 1150\n",
    "rho_s = 2510\n",
    "rho_w = 1000\n",
    "rho_g = 1167\n",
    "psi_a = 0.728579\n",
    "psi_s = 1.108884\n",
    "psi_w = 0.179992\n",
    "psi_g = 0.439703\n",
    "molar_r = 0.100088\n",
    "molar_a = 0.036461"
   ]
  },
  {
   "cell_type": "markdown",
   "metadata": {},
   "source": [
    "### Инициализация"
   ]
  },
  {
   "cell_type": "code",
   "execution_count": 54,
   "metadata": {},
   "outputs": [],
   "source": [
    "# grid\n",
    "\n",
    "num_of_time_points = int(total_time / time_step)\n",
    "\n",
    "num_of_cells = num_of_grid_points - 1\n",
    "# points_r = torch.logspace(torch.log10(torch.tensor(well_radius)), torch.log10(torch.tensor(reservoir_radius)), num_of_grid_points)\n",
    "points_r = torch.linspace(well_radius, reservoir_radius, num_of_grid_points)\n",
    "cells_r = ((points_r[1:] + points_r[:-1]) / 2)"
   ]
  },
  {
   "cell_type": "code",
   "execution_count": 55,
   "metadata": {},
   "outputs": [],
   "source": [
    "# boundary conditions vectors\n",
    "\n",
    "inflow_flow = 1e-5\n",
    "inflow_filtration_velocity = torch.zeros(num_of_time_points) + inflow_flow / (2 * torch.pi * well_radius * height)\n",
    "\n",
    "inflow_sat = torch.zeros(num_of_time_points) + 1.0\n",
    "\n",
    "conc_count = 4\n",
    "inflow_conc = torch.zeros(num_of_time_points, 4)\n",
    "inflow_conc[:, 0] = 0.3"
   ]
  },
  {
   "cell_type": "code",
   "execution_count": 56,
   "metadata": {},
   "outputs": [],
   "source": [
    "# fields\n",
    "\n",
    "j_cells = torch.zeros(num_of_cells)\n",
    "\n",
    "filtration_velocity_points = torch.zeros(num_of_grid_points)\n",
    "\n",
    "b_points = torch.zeros(num_of_grid_points)\n",
    "\n",
    "porosity_points = torch.zeros(num_of_grid_points)\n",
    "porosity_cells = torch.zeros(num_of_cells)\n",
    "porosity_points_next = torch.zeros(num_of_grid_points)\n",
    "porosity_cells_next = torch.zeros(num_of_cells)\n",
    "\n",
    "sat_points = torch.zeros(num_of_grid_points)\n",
    "sat_cells = torch.zeros(num_of_cells)\n",
    "sat_points_next = torch.zeros(num_of_grid_points)\n",
    "sat_cells_next = torch.zeros(num_of_cells)\n",
    "\n",
    "conc_points = torch.zeros(num_of_grid_points, conc_count)\n",
    "conc_cells = torch.zeros(num_of_cells, conc_count)\n",
    "conc_points_next = torch.zeros(num_of_grid_points, conc_count)\n",
    "conc_cells_next = torch.zeros(num_of_cells, conc_count)"
   ]
  },
  {
   "cell_type": "code",
   "execution_count": 57,
   "metadata": {},
   "outputs": [],
   "source": [
    "# apply bounds to fields\n",
    "\n",
    "filtration_velocity_points[0] = inflow_filtration_velocity[0]\n",
    "sat_points[0] = inflow_sat[0]\n",
    "conc_points[0] = inflow_conc[0]"
   ]
  },
  {
   "cell_type": "code",
   "execution_count": 58,
   "metadata": {},
   "outputs": [],
   "source": [
    "# functions\n",
    "\n",
    "def interpolate(x, x_minus, x_plus, y_minus, y_plus):\n",
    "    assert x_minus < x_plus\n",
    "    # return y_minus + (y_plus - y_minus) * (x - x_minus) / (x_plus - x_minus)\n",
    "    return y_minus\n",
    "\n",
    "def get_j(k_a, S, phi, M_r, S_s, rho_a, m, c_a, c_eq, M_a):\n",
    "    return k_a * S * (1 - phi) * M_r / 2 * S_s * rho_a**m * (c_a - c_eq)**m / M_a**m\n",
    "\n",
    "def get_b(viscosity_o, viscosity_w, k_o, k_w):\n",
    "    return k_w / (k_w + k_o * viscosity_w / viscosity_o)\n",
    "\n",
    "def get_k_o(S):\n",
    "    return torch.pow((1 - S), 2.0)\n",
    "    \n",
    "def get_k_w(S):\n",
    "    return torch.pow(S, 2.0)\n",
    "\n",
    "def get_mu_w(conc, a=0.6, b=0.126, eta_water=0.001):\n",
    "    return eta_water * (1 + a * conc + b * conc**2)"
   ]
  },
  {
   "cell_type": "markdown",
   "metadata": {},
   "source": [
    "### Вычисления"
   ]
  },
  {
   "cell_type": "code",
   "execution_count": 59,
   "metadata": {},
   "outputs": [
    {
     "data": {
      "text/plain": [
       "[<matplotlib.lines.Line2D at 0x7fd9ecebc880>]"
      ]
     },
     "execution_count": 59,
     "metadata": {},
     "output_type": "execute_result"
    },
    {
     "data": {
      "image/png": "[encoded data removed]",
      "text/plain": [
       "<Figure size 6000x1200 with 1 Axes>"
      ]
     },
     "metadata": {},
     "output_type": "display_data"
    }
   ],
   "source": [
    "plt.figure(figsize=(20, 4), dpi=300)\n",
    "plt.scatter(points_r, torch.zeros_like(points_r))\n",
    "plt.plot(cells_r, torch.zeros_like(points_r[1:]), marker=\".\", c=\"r\")"
   ]
  },
  {
   "cell_type": "code",
   "execution_count": 60,
   "metadata": {},
   "outputs": [],
   "source": [
    "porosity_cells = torch.zeros_like(cells_r) + initial_porosity"
   ]
  },
  {
   "cell_type": "code",
   "execution_count": 62,
   "metadata": {},
   "outputs": [
    {
     "data": {
      "text/plain": [
       "tensor([0., 0., 0., 0., 0., 0., 0., 0., 0., 0.])"
      ]
     },
     "execution_count": 62,
     "metadata": {},
     "output_type": "execute_result"
    }
   ],
   "source": [
    "j_cells = get_j(k_a, sat_cells, porosity_cells, molar_r, S_s, rho_a, m, conc_cells[:, 0], c_eq, molar_a)\n",
    "j_cells"
   ]
  },
  {
   "cell_type": "code",
   "execution_count": null,
   "metadata": {},
   "outputs": [],
   "source": [
    "filtration_velocity_bounds = torch.zeros_like(r)\n",
    "filtration_velocity_bounds[0] = velocity_left[0]"
   ]
  },
  {
   "cell_type": "code",
   "execution_count": null,
   "metadata": {},
   "outputs": [],
   "source": [
    "filtration_velocity_bounds"
   ]
  },
  {
   "cell_type": "code",
   "execution_count": null,
   "metadata": {},
   "outputs": [],
   "source": [
    "for i in range(1, num_of_grid_points):\n",
    "    filtration_velocity_bounds[i] = 1 / r[i] * (\n",
    "        filtration_velocity_bounds[i-1] * r[i-1] + 0.5 * j_cells[i-1] * (r[i]**2 - r[i-1]**2)\n",
    "        ) * ((-1/rho_r - psi_a/rho_a + psi_s/rho_s + psi_w/rho_w + psi_g/rho_g))"
   ]
  },
  {
   "cell_type": "code",
   "execution_count": null,
   "metadata": {},
   "outputs": [],
   "source": [
    "porosity_cells_nplus = porosity_cells + j_cells / rho_r * tau\n",
    "porosity_cells_nplus"
   ]
  },
  {
   "cell_type": "code",
   "execution_count": null,
   "metadata": {},
   "outputs": [],
   "source": [
    "b_bounds = get_b()\n",
    "def viscosity_o(conc_pol):\n",
    "\n",
    "conc_pol = torch.zeros ......"
   ]
  },
  {
   "cell_type": "code",
   "execution_count": null,
   "metadata": {},
   "outputs": [],
   "source": [
    "filtration_velocity_bounds"
   ]
  },
  {
   "cell_type": "markdown",
   "metadata": {},
   "source": [
    "### Визуализация"
   ]
  },
  {
   "cell_type": "code",
   "execution_count": null,
   "metadata": {},
   "outputs": [],
   "source": [
    "solution = model.predict(\n",
    "    num_of_time_steps=num_of_time_points,\n",
    "    time_step=tau,\n",
    "    water_saturation_left=water_saturation_left,\n",
    "    acid_conc_left=acid_conc_left,\n",
    "    fluid_velocity_left=velocity_left/2\n",
    ")\n",
    "\n",
    "fig, ax = plt.subplots(figsize=(10, 4), layout='constrained', dpi=300)\n",
    "\n",
    "ax.plot(x, model.water_saturation_field, label=\"Saturation\", marker=\"x\", alpha=0.5)\n",
    "ax.plot(x, model.porosity_field, label=\"Porosity\", marker=\"x\", alpha=0.5)\n",
    "ax.plot(x, model.acid_concentration_field, label=\"HCl concentration\", marker=\"x\", alpha=0.5)\n",
    "ax.plot(x, model.salt_concentration_field, label=\"CaCl${}_a$ concentration\", marker=\"x\", alpha=0.5)\n",
    "ax.plot(x, model.co2_concentration_field, label=\"CO${}_a$ concentration\", marker=\"x\", alpha=0.5)\n",
    "\n",
    "plt.title(\"Динамика поля насыщенности, концентрации и пористости\")\n",
    "\n",
    "textstr = '\\n'.join((\n",
    "\t    r'$t=%.1f$ %s' % (model.time, \"с\"),\n",
    "\t    r'$Q = %.1f м^3/c$' % (flow),\n",
    "\t    r'$C_{\\text{input}}=%.0f$ %s' % (model.acid_concentration_field[0]*100, \"%\"),\n",
    "\t    f'$k_a = {k_a}$',\n",
    "\t    f'$m = {m}$'\n",
    "\t    ))\n",
    "\n",
    "ax.text(0.5, 0.95, textstr,\n",
    "\thorizontalalignment = 'center',\n",
    "\tverticalalignment = 'top',\n",
    "\tbbox={'facecolor': 'yellow', 'alpha': 0.2, 'pad': 5},\n",
    "\ttransform=ax.transAxes)\n",
    "\n",
    "ax.set_xlabel(\"x\")\n",
    "ax.set_ylim([-0.05, 1.05])\n",
    "ax.set_xlim([-0.01 * length, length * 1.01])\n",
    "# ax.set_xlim([9.7, 10.2])\n",
    "plt.legend(fontsize=10)\n",
    "plt.show()"
   ]
  },
  {
   "cell_type": "markdown",
   "metadata": {},
   "source": [
    "### Анимация"
   ]
  },
  {
   "cell_type": "code",
   "execution_count": null,
   "metadata": {},
   "outputs": [],
   "source": [
    "# import matplotlib.animation as animation\n",
    "# plt.style.use('default')\n",
    "\n",
    "# n_frames = 100\n",
    "\n",
    "# t_opt = []\n",
    "# conc2_opt = []\n",
    "# conc3_opt = []\n",
    "# conc5_opt = []\n",
    "# sat_opt = []\n",
    "# phi_opt = []\n",
    "# for i in range(S.shape[0]):\n",
    "#     if i % (total_time // tau // (n_frames-1)) == 0:\n",
    "#         t_opt.append(t[i])\n",
    "#         conc2_opt.append(conc2[i])\n",
    "#         conc3_opt.append(conc3[i])\n",
    "#         conc5_opt.append(conc5[i])\n",
    "#         sat_opt.append(S[i])\n",
    "#         phi_opt.append(phi[i])\n",
    "\n",
    "# fig, ax = plt.subplots(figsize=(10, 4), layout='constrained', dpi=150)\n",
    "\n",
    "# # ax.plot(x, S[show], label=\"Sat upwind scheme\", marker=\"x\", alpha=0.5)\n",
    "# sat_line, = ax.plot(x, S[0], label=\"Saturation\", marker=\"x\", alpha=0.5)\n",
    "# phi_line, = ax.plot(x, phi[0], label=\"Porosity\", marker=\"x\", alpha=0.5)\n",
    "\n",
    "# conc2_line, = ax.plot(x, conc2[0], label=\"HCl concentration\", marker=\"x\", alpha=0.5)\n",
    "# conc3_line, = ax.plot(x, conc3[0], label=\"CaCl${}_a$ concentration\", marker=\"x\", alpha=0.5)\n",
    "# conc5_line, = ax.plot(x, conc5[0], label=\"CO${}_a$ concentration\", marker=\"x\", alpha=0.5)\n",
    "\n",
    "# textstr = '\\n'.join((\n",
    "#             r'$t=%.1f$ %s' % (t_opt[0], \"с\"),\n",
    "#             r'$Q = %.1f м^3/c$' % (flow),\n",
    "#             r'$C_{\\text{input}}=%.0f$%s' % (conc2_opt[0][0]*100, \"%\"),\n",
    "#             f'$k_a = {k_a}$',\n",
    "#             f'$m = {m}$'\n",
    "#             ))\n",
    "\n",
    "# textbox = ax.text(0.5, 0.95, textstr,\n",
    "#         horizontalalignment = 'center',\n",
    "#         verticalalignment = 'top',\n",
    "#         bbox={'facecolor': 'yellow', 'alpha': 0.2, 'pad': 5},\n",
    "#         transform=ax.transAxes)\n",
    "\n",
    "# plt.title(\"Реакция периодически закачиваемой кислоты с породой\")\n",
    "\n",
    "# ax.set_xlabel(\"x\")\n",
    "# ax.set_ylim([-0.05, 1.05])\n",
    "# ax.set_xlim([-0.01 * length, length * 1.01])\n",
    "\n",
    "# ax.legend(fontsize=10)\n",
    "\n",
    "# def update(frame):\n",
    "#     # update the line plot:\n",
    "#     conc2_line.set_data(x, conc2_opt[frame])\n",
    "#     conc3_line.set_data(x, conc3_opt[frame])\n",
    "#     conc5_line.set_data(x, conc5_opt[frame])\n",
    "#     sat_line.set_data(x, sat_opt[frame])\n",
    "#     phi_line.set_data(x, phi_opt[frame])\n",
    "\n",
    "#     textstr = '\\n'.join((\n",
    "#             r'$t=%.1f$ %s' % (t_opt[frame], \"с\"),\n",
    "#             r'$Q = %.1f м^3/c$' % (flow),\n",
    "#             r'$C_{\\text{input}}=%.0f$%s' % (conc2_opt[frame][0]*100, \"%\"),\n",
    "#             f'$k_a = {k_a}$',\n",
    "#             f'$m = {m}$'\n",
    "#             ))\n",
    "\n",
    "#     textbox.set_text(textstr)\n",
    "#     return conc2_line, conc3_line, conc5_line, sat_line, phi_line, textbox\n",
    "\n",
    "# ani = animation.FuncAnimation(fig=fig, func=update, frames=n_frames, interval=0.1, blit=True)\n",
    "# ani.save(filename=\"../data/acid_field.gif\", writer=\"pillow\")"
   ]
  },
  {
   "cell_type": "code",
   "execution_count": null,
   "metadata": {},
   "outputs": [],
   "source": []
  }
 ],
 "metadata": {
  "kernelspec": {
   "display_name": ".venv",
   "language": "python",
   "name": "python3"
  },
  "language_info": {
   "codemirror_mode": {
    "name": "ipython",
    "version": 3
   },
   "file_extension": ".py",
   "mimetype": "text/x-python",
   "name": "python",
   "nbconvert_exporter": "python",
   "pygments_lexer": "ipython3",
   "version": "3.10.12"
  }
 },
 "nbformat": 4,
 "nbformat_minor": 2
}
